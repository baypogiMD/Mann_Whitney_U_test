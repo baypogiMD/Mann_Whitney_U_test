{
  "nbformat": 4,
  "nbformat_minor": 0,
  "metadata": {
    "colab": {
      "name": "04 - Mann-Whitney U test.ipynb",
      "provenance": [],
      "collapsed_sections": []
    },
    "kernelspec": {
      "name": "python3",
      "display_name": "Python 3"
    }
  },
  "cells": [
    {
      "cell_type": "markdown",
      "metadata": {
        "id": "E-HObbqB721U"
      },
      "source": [
        "# Mann-Whitney U test (a.k.a. Wilcoxon-Mann-Whitney test)\n",
        "* A nonparametric test.\n",
        "* It does not have a gaussian/normal distribution.\n",
        "* Use in comparing 2 groups only.\n",
        "* The parametric counter part is the student t-test.\n",
        "* There should be at least 20 observations in each group.\n",
        "* $H_0$: There is no difference between the distribution of the 2 groups.\n",
        "* $H_1$: There is a difference between the distribution of the 2 groups.\n",
        "* $\\alpha = 0.05$\n"
      ]
    },
    {
      "cell_type": "code",
      "metadata": {
        "id": "N6dN--5L7rzf"
      },
      "source": [
        "# Import the necessary libraries\n",
        "\n",
        "import pandas as pd\n",
        "import matplotlib.pyplot as plt\n",
        "import numpy as np\n",
        "import seaborn as sns"
      ],
      "execution_count": null,
      "outputs": []
    },
    {
      "cell_type": "code",
      "metadata": {
        "colab": {
          "base_uri": "https://localhost:8080/",
          "height": 204
        },
        "id": "RtBSUlfOD7Ai",
        "outputId": "71368b12-62ea-463b-e743-848006634cfe"
      },
      "source": [
        "# Load your dataset\n",
        "\n",
        "framingham = pd.read_csv('Framingham.csv')\n",
        "framingham.head()"
      ],
      "execution_count": null,
      "outputs": [
        {
          "output_type": "execute_result",
          "data": {
            "text/html": [
              "<div>\n",
              "<style scoped>\n",
              "    .dataframe tbody tr th:only-of-type {\n",
              "        vertical-align: middle;\n",
              "    }\n",
              "\n",
              "    .dataframe tbody tr th {\n",
              "        vertical-align: top;\n",
              "    }\n",
              "\n",
              "    .dataframe thead th {\n",
              "        text-align: right;\n",
              "    }\n",
              "</style>\n",
              "<table border=\"1\" class=\"dataframe\">\n",
              "  <thead>\n",
              "    <tr style=\"text-align: right;\">\n",
              "      <th></th>\n",
              "      <th>Patient_ID</th>\n",
              "      <th>Age_Years</th>\n",
              "      <th>Sex</th>\n",
              "      <th>Systolic</th>\n",
              "      <th>Diastolic</th>\n",
              "      <th>CHD</th>\n",
              "      <th>FollowUp_Months</th>\n",
              "      <th>BMI</th>\n",
              "      <th>month</th>\n",
              "      <th>scl</th>\n",
              "    </tr>\n",
              "  </thead>\n",
              "  <tbody>\n",
              "    <tr>\n",
              "      <th>0</th>\n",
              "      <td>563</td>\n",
              "      <td>36</td>\n",
              "      <td>1</td>\n",
              "      <td>108</td>\n",
              "      <td>78</td>\n",
              "      <td>0</td>\n",
              "      <td>11688</td>\n",
              "      <td>29.000000</td>\n",
              "      <td>2</td>\n",
              "      <td>115</td>\n",
              "    </tr>\n",
              "    <tr>\n",
              "      <th>1</th>\n",
              "      <td>4080</td>\n",
              "      <td>42</td>\n",
              "      <td>0</td>\n",
              "      <td>110</td>\n",
              "      <td>70</td>\n",
              "      <td>1</td>\n",
              "      <td>7697</td>\n",
              "      <td>24.100000</td>\n",
              "      <td>11</td>\n",
              "      <td>117</td>\n",
              "    </tr>\n",
              "    <tr>\n",
              "      <th>2</th>\n",
              "      <td>2264</td>\n",
              "      <td>38</td>\n",
              "      <td>0</td>\n",
              "      <td>84</td>\n",
              "      <td>56</td>\n",
              "      <td>0</td>\n",
              "      <td>11688</td>\n",
              "      <td>21.100000</td>\n",
              "      <td>6</td>\n",
              "      <td>118</td>\n",
              "    </tr>\n",
              "    <tr>\n",
              "      <th>3</th>\n",
              "      <td>1870</td>\n",
              "      <td>47</td>\n",
              "      <td>0</td>\n",
              "      <td>144</td>\n",
              "      <td>80</td>\n",
              "      <td>0</td>\n",
              "      <td>11688</td>\n",
              "      <td>25.299999</td>\n",
              "      <td>5</td>\n",
              "      <td>121</td>\n",
              "    </tr>\n",
              "    <tr>\n",
              "      <th>4</th>\n",
              "      <td>3137</td>\n",
              "      <td>60</td>\n",
              "      <td>1</td>\n",
              "      <td>122</td>\n",
              "      <td>88</td>\n",
              "      <td>0</td>\n",
              "      <td>4264</td>\n",
              "      <td>32.000000</td>\n",
              "      <td>9</td>\n",
              "      <td>124</td>\n",
              "    </tr>\n",
              "  </tbody>\n",
              "</table>\n",
              "</div>"
            ],
            "text/plain": [
              "   Patient_ID  Age_Years  Sex  Systolic  ...  FollowUp_Months        BMI  month  scl\n",
              "0         563         36    1       108  ...            11688  29.000000      2  115\n",
              "1        4080         42    0       110  ...             7697  24.100000     11  117\n",
              "2        2264         38    0        84  ...            11688  21.100000      6  118\n",
              "3        1870         47    0       144  ...            11688  25.299999      5  121\n",
              "4        3137         60    1       122  ...             4264  32.000000      9  124\n",
              "\n",
              "[5 rows x 10 columns]"
            ]
          },
          "metadata": {
            "tags": []
          },
          "execution_count": 3
        }
      ]
    },
    {
      "cell_type": "markdown",
      "metadata": {
        "id": "8q3S0Po-K6vT"
      },
      "source": [
        "## Perform summary statistics on the dataset"
      ]
    },
    {
      "cell_type": "code",
      "metadata": {
        "colab": {
          "base_uri": "https://localhost:8080/",
          "height": 297
        },
        "id": "j4iHX_pXKuaw",
        "outputId": "17c0250d-bb18-4ff0-b1dc-51f3b7a302ea"
      },
      "source": [
        "# Convert observations in Patient_ID as string\n",
        "framingham['Patient_ID'] = framingham['Patient_ID'].apply(str)\n",
        "\n",
        "# Convert observations in Sex as categorical/string\n",
        "framingham['Sex'] = framingham['Sex'].apply(str)\n",
        "\n",
        "# Convert observations in CHD as categorical/string\n",
        "framingham['CHD'] = framingham['CHD'].apply(str)\n",
        "\n",
        "# Rename/simplify column name\n",
        "framingham = framingham.rename(columns = {'Age_Years':'Age', 'FollowUp_Months':'FollowUp','scl':'Cholesterol'})\n",
        "\n",
        "framingham.describe()"
      ],
      "execution_count": null,
      "outputs": [
        {
          "output_type": "execute_result",
          "data": {
            "text/html": [
              "<div>\n",
              "<style scoped>\n",
              "    .dataframe tbody tr th:only-of-type {\n",
              "        vertical-align: middle;\n",
              "    }\n",
              "\n",
              "    .dataframe tbody tr th {\n",
              "        vertical-align: top;\n",
              "    }\n",
              "\n",
              "    .dataframe thead th {\n",
              "        text-align: right;\n",
              "    }\n",
              "</style>\n",
              "<table border=\"1\" class=\"dataframe\">\n",
              "  <thead>\n",
              "    <tr style=\"text-align: right;\">\n",
              "      <th></th>\n",
              "      <th>Age</th>\n",
              "      <th>Systolic</th>\n",
              "      <th>Diastolic</th>\n",
              "      <th>FollowUp</th>\n",
              "      <th>BMI</th>\n",
              "      <th>month</th>\n",
              "      <th>Cholesterol</th>\n",
              "    </tr>\n",
              "  </thead>\n",
              "  <tbody>\n",
              "    <tr>\n",
              "      <th>count</th>\n",
              "      <td>4699.000000</td>\n",
              "      <td>4699.000000</td>\n",
              "      <td>4699.000000</td>\n",
              "      <td>4699.000000</td>\n",
              "      <td>4690.000000</td>\n",
              "      <td>4699.000000</td>\n",
              "      <td>4699.000000</td>\n",
              "    </tr>\n",
              "    <tr>\n",
              "      <th>mean</th>\n",
              "      <td>46.041073</td>\n",
              "      <td>132.766546</td>\n",
              "      <td>82.541605</td>\n",
              "      <td>8061.313258</td>\n",
              "      <td>25.631706</td>\n",
              "      <td>6.369227</td>\n",
              "      <td>229.087253</td>\n",
              "    </tr>\n",
              "    <tr>\n",
              "      <th>std</th>\n",
              "      <td>8.504363</td>\n",
              "      <td>22.801104</td>\n",
              "      <td>12.737322</td>\n",
              "      <td>3595.310856</td>\n",
              "      <td>4.094672</td>\n",
              "      <td>3.683821</td>\n",
              "      <td>45.381863</td>\n",
              "    </tr>\n",
              "    <tr>\n",
              "      <th>min</th>\n",
              "      <td>30.000000</td>\n",
              "      <td>80.000000</td>\n",
              "      <td>40.000000</td>\n",
              "      <td>18.000000</td>\n",
              "      <td>16.200001</td>\n",
              "      <td>1.000000</td>\n",
              "      <td>115.000000</td>\n",
              "    </tr>\n",
              "    <tr>\n",
              "      <th>25%</th>\n",
              "      <td>39.000000</td>\n",
              "      <td>116.000000</td>\n",
              "      <td>74.000000</td>\n",
              "      <td>5136.500000</td>\n",
              "      <td>22.799999</td>\n",
              "      <td>3.000000</td>\n",
              "      <td>198.000000</td>\n",
              "    </tr>\n",
              "    <tr>\n",
              "      <th>50%</th>\n",
              "      <td>45.000000</td>\n",
              "      <td>130.000000</td>\n",
              "      <td>80.000000</td>\n",
              "      <td>8908.000000</td>\n",
              "      <td>25.200001</td>\n",
              "      <td>6.000000</td>\n",
              "      <td>225.000000</td>\n",
              "    </tr>\n",
              "    <tr>\n",
              "      <th>75%</th>\n",
              "      <td>53.000000</td>\n",
              "      <td>144.000000</td>\n",
              "      <td>90.000000</td>\n",
              "      <td>11648.000000</td>\n",
              "      <td>28.000000</td>\n",
              "      <td>10.000000</td>\n",
              "      <td>255.000000</td>\n",
              "    </tr>\n",
              "    <tr>\n",
              "      <th>max</th>\n",
              "      <td>68.000000</td>\n",
              "      <td>270.000000</td>\n",
              "      <td>148.000000</td>\n",
              "      <td>11688.000000</td>\n",
              "      <td>57.599998</td>\n",
              "      <td>12.000000</td>\n",
              "      <td>568.000000</td>\n",
              "    </tr>\n",
              "  </tbody>\n",
              "</table>\n",
              "</div>"
            ],
            "text/plain": [
              "               Age     Systolic  ...        month  Cholesterol\n",
              "count  4699.000000  4699.000000  ...  4699.000000  4699.000000\n",
              "mean     46.041073   132.766546  ...     6.369227   229.087253\n",
              "std       8.504363    22.801104  ...     3.683821    45.381863\n",
              "min      30.000000    80.000000  ...     1.000000   115.000000\n",
              "25%      39.000000   116.000000  ...     3.000000   198.000000\n",
              "50%      45.000000   130.000000  ...     6.000000   225.000000\n",
              "75%      53.000000   144.000000  ...    10.000000   255.000000\n",
              "max      68.000000   270.000000  ...    12.000000   568.000000\n",
              "\n",
              "[8 rows x 7 columns]"
            ]
          },
          "metadata": {
            "tags": []
          },
          "execution_count": 4
        }
      ]
    },
    {
      "cell_type": "markdown",
      "metadata": {
        "id": "CLcytPz3JgaY"
      },
      "source": [
        "## Create histogram"
      ]
    },
    {
      "cell_type": "code",
      "metadata": {
        "colab": {
          "base_uri": "https://localhost:8080/",
          "height": 801
        },
        "id": "yRLkdWYSEVMZ",
        "outputId": "147f7e30-d305-417d-fdb9-791aedeedb15"
      },
      "source": [
        "# Create subset for female and male\n",
        "FemaleAge = framingham[(framingham['Sex'] == '0')]\n",
        "MaleAge = framingham[(framingham['Sex'] == '1')]\n",
        "\n",
        "# Create figure and title\n",
        "fig, axs = plt.subplots(3, 1, figsize=(6, 12), sharex=True)\n",
        "fig.suptitle('Age histogram base on Sex')\n",
        "\n",
        "# Age historgram of both female and male\n",
        "sns.histplot(framingham['Age'], ax=axs[0], kde=True, color='red')\n",
        "axs[0].set_title('Age histogram')\n",
        "\n",
        "# Female Age\n",
        "sns.histplot(FemaleAge['Age'], ax=axs[1], kde=True, color='green')\n",
        "axs[1].set_title('Female Age')\n",
        "\n",
        "# Male Age\n",
        "sns.histplot(MaleAge['Age'], ax=axs[2], kde=True, color='orange')\n",
        "axs[2].set_title('Male Age')\n",
        "\n",
        "plt.show()"
      ],
      "execution_count": null,
      "outputs": [
        {
          "output_type": "display_data",
          "data": {
            "image/png": "[encoded data removed]",
            "text/plain": [
              "<Figure size 432x864 with 3 Axes>"
            ]
          },
          "metadata": {
            "tags": [],
            "needs_background": "light"
          }
        }
      ]
    },
    {
      "cell_type": "markdown",
      "metadata": {
        "id": "f1daBjJvuLYX"
      },
      "source": [
        "This histogram of the groups do not have a normal distribution curve."
      ]
    },
    {
      "cell_type": "markdown",
      "metadata": {
        "id": "tGKcjD1ihmHs"
      },
      "source": [
        "## Perform Mann-Whitney U test\n"
      ]
    },
    {
      "cell_type": "code",
      "metadata": {
        "id": "_1TO3op48S-O"
      },
      "source": [
        "FemaleAge = FemaleAge['Age']\n",
        "MaleAge = MaleAge['Age']"
      ],
      "execution_count": null,
      "outputs": []
    },
    {
      "cell_type": "code",
      "metadata": {
        "colab": {
          "base_uri": "https://localhost:8080/"
        },
        "id": "w84j76eEE3iM",
        "outputId": "0ac4d963-2dfe-48a3-88a4-16d4a6eb808b"
      },
      "source": [
        "from scipy.stats import mannwhitneyu\n",
        "\n",
        "MWU, pval = mannwhitneyu(FemaleAge, MaleAge)\n",
        "MWU, pval"
      ],
      "execution_count": null,
      "outputs": [
        {
          "output_type": "execute_result",
          "data": {
            "text/plain": [
              "(2636976.5, 0.045394132421248456)"
            ]
          },
          "metadata": {
            "tags": []
          },
          "execution_count": 14
        }
      ]
    },
    {
      "cell_type": "markdown",
      "metadata": {
        "id": "r5KnW9Y7xSnx"
      },
      "source": [
        "## Interpret the result\n",
        "The result of our p-value is 0.045 which is less than 0.05. We will reject the null hypothesis. There is a significant difference between the age of female and male."
      ]
    }
  ]
}